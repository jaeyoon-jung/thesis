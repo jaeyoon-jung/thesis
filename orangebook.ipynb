{
 "cells": [
  {
   "cell_type": "code",
   "execution_count": 1,
   "metadata": {},
   "outputs": [],
   "source": [
    "import pandas as pd\n",
    "import ast"
   ]
  },
  {
   "cell_type": "code",
   "execution_count": 2,
   "metadata": {},
   "outputs": [],
   "source": [
    "ob_products_dir = \"orangebook/products.txt\"\n",
    "ob_products = pd.read_csv(ob_products_dir, sep=\"~\")\n",
    "ob_patent_dir = \"orangebook/patent.txt\"\n",
    "ob_patent = pd.read_csv(ob_patent_dir, sep=\"~\")"
   ]
  },
  {
   "cell_type": "code",
   "execution_count": null,
   "metadata": {},
   "outputs": [],
   "source": [
    "ob_products.Product_No.nunique()"
   ]
  },
  {
   "cell_type": "code",
   "execution_count": null,
   "metadata": {},
   "outputs": [],
   "source": [
    "ob_products.Ingredient.nunique()"
   ]
  },
  {
   "cell_type": "code",
   "execution_count": null,
   "metadata": {},
   "outputs": [],
   "source": [
    "ob_products.shape"
   ]
  },
  {
   "cell_type": "code",
   "execution_count": null,
   "metadata": {
    "scrolled": true
   },
   "outputs": [],
   "source": [
    "ob_products.loc[ob_products.Product_No==1]"
   ]
  },
  {
   "cell_type": "code",
   "execution_count": null,
   "metadata": {},
   "outputs": [],
   "source": [
    "ob_patent"
   ]
  },
  {
   "cell_type": "code",
   "execution_count": null,
   "metadata": {
    "scrolled": true
   },
   "outputs": [],
   "source": [
    "ob_patent.Patent_No.nunique()"
   ]
  },
  {
   "cell_type": "code",
   "execution_count": null,
   "metadata": {},
   "outputs": [],
   "source": [
    "ob_patent.Patent_No.nunique()"
   ]
  },
  {
   "cell_type": "code",
   "execution_count": null,
   "metadata": {},
   "outputs": [],
   "source": [
    "len(set(zip(ob_patent['Patent_No'],ob_patent['Product_No'], ob_patent[\"Appl_No\"])))\n"
   ]
  },
  {
   "cell_type": "code",
   "execution_count": 1,
   "metadata": {},
   "outputs": [],
   "source": [
    "ob_query = \"\"\"\n",
    "#standardSQL\n",
    "SELECT publication_number, \n",
    "ANY_VALUE(filing_year) AS filing_year, \n",
    "ANY_VALUE(assignee) AS assignee, \n",
    "ARRAY_AGG(DISTINCT applicant_full_name) AS applicant, \n",
    "ARRAY_AGG(DISTINCT trade_name) AS trade_name,\n",
    "ARRAY_AGG(DISTINCT pref_name) AS target, \n",
    "ARRAY_AGG(DISTINCT mesh_heading) AS mesh_heading\n",
    "FROM (\n",
    "  SELECT pref_name, mechanism_of_action, dm.record_id,\n",
    "  di.mesh_heading,\n",
    "  prod.trade_name, \n",
    "  prod.route, \n",
    "  prod.applicant_full_name, \n",
    "  prod.approval_date, \n",
    "  cm.publication_number,\n",
    "  pat.patent_use_code, \n",
    "  pat.drug_product_flag, \n",
    "  pat.drug_substance_flag, \n",
    "  pubs.cpc,\n",
    "  CAST(FLOOR(filing_date / 10000) AS INT64) AS filing_year,\n",
    "  (SELECT ARRAY_AGG(a.name) FROM UNNEST(pubs.assignee_harmonized) AS a) AS assignee\n",
    "  FROM `patents-public-data.ebi_chembl.drug_mechanism_23` AS dm\n",
    "  JOIN `patents-public-data.ebi_chembl.drug_indication_23` AS di ON di.record_id = dm.record_id\n",
    "  JOIN `patents-public-data.ebi_chembl.target_dictionary_23` AS td ON td.tid = dm.tid\n",
    "  JOIN `patents-public-data.ebi_chembl.formulations_23` AS form ON form.record_id = dm.record_id\n",
    "  JOIN `patents-public-data.ebi_chembl.products_23` AS prod ON prod.product_id = form.product_id\n",
    "  JOIN `patents-public-data.ebi_chembl.product_patents_23` AS pat ON pat.product_id = prod.product_id\n",
    "  JOIN `patents-public-data.ebi_chembl.match_23` AS cm ON cm.patent_no = pat.patent_no\n",
    "  JOIN `patents-public-data.patents.publications` AS pubs ON pubs.publication_number = cm.publication_number\n",
    ")\n",
    "GROUP BY publication_number\n",
    "ORDER BY filing_year\n",
    "\n",
    "\n",
    "\"\"\""
   ]
  },
  {
   "cell_type": "code",
   "execution_count": 2,
   "metadata": {},
   "outputs": [],
   "source": [
    "from pandas.io import gbq\n",
    "import pandas as pd\n",
    "\n",
    "bq_project = \"thesis-jaeyoon\""
   ]
  },
  {
   "cell_type": "code",
   "execution_count": 4,
   "metadata": {},
   "outputs": [
    {
     "name": "stderr",
     "output_type": "stream",
     "text": [
      "/Users/jaeyoonjung/anaconda3/lib/python3.6/site-packages/pandas/io/gbq.py:149: FutureWarning: verbose is deprecated and will be removed in a future version. Set logging level in order to vary verbosity\n",
      "  credentials=credentials, verbose=verbose, private_key=private_key)\n"
     ]
    }
   ],
   "source": [
    "ob_df = gbq.read_gbq(\n",
    "            query=ob_query,\n",
    "            project_id=bq_project,\n",
    "            verbose=True,\n",
    "            dialect='standard')"
   ]
  },
  {
   "cell_type": "code",
   "execution_count": 5,
   "metadata": {},
   "outputs": [],
   "source": [
    "ob_df = pd.read_csv(\"orangebook_chembl.csv\", sep='\\t')"
   ]
  },
  {
   "cell_type": "code",
   "execution_count": 15,
   "metadata": {},
   "outputs": [
    {
     "data": {
      "text/plain": [
       "['PAIN', 'OPIOID-RELATED DISORDERS']"
      ]
     },
     "execution_count": 15,
     "metadata": {},
     "output_type": "execute_result"
    }
   ],
   "source": [
    "(ast.literal_eval(ob_df.iloc[3254][\"mesh_heading\"]))"
   ]
  },
  {
   "cell_type": "code",
   "execution_count": 17,
   "metadata": {},
   "outputs": [],
   "source": [
    "disease_year = pd.DataFrame(columns=[\"publication_number\",\"filing_year\", \"assignee\",\"indication\"])\n",
    "for i, row in ob_df.iterrows():\n",
    "    headings = ast.literal_eval(row[\"mesh_heading\"])\n",
    "    new_row = dict()\n",
    "    new_row[\"publication_number\"] = row[\"publication_number\"]\n",
    "    new_row[\"filing_year\"] = row[\"filing_year\"]\n",
    "    new_row[\"assignee\"] = '|'.join(ast.literal_eval(row[\"assignee\"])).upper()\n",
    "    \n",
    "    for h in headings:\n",
    "        new_row[\"indication\"] = h\n",
    "        disease_year = disease_year.append(new_row, ignore_index=True)"
   ]
  },
  {
   "cell_type": "code",
   "execution_count": 19,
   "metadata": {},
   "outputs": [],
   "source": [
    "disease_year.to_csv(\"orangebook_patent_indicaton.csv\", sep='\\t', index=False)"
   ]
  },
  {
   "cell_type": "code",
   "execution_count": 20,
   "metadata": {
    "scrolled": true
   },
   "outputs": [],
   "source": [
    "by_disease_year = disease_year.groupby([\"filing_year\", \"indication\"])[\"publication_number\"].count()"
   ]
  },
  {
   "cell_type": "code",
   "execution_count": 21,
   "metadata": {},
   "outputs": [],
   "source": [
    "by_disease_year = by_disease_year.reset_index()"
   ]
  },
  {
   "cell_type": "code",
   "execution_count": 69,
   "metadata": {},
   "outputs": [],
   "source": [
    "disease = \"gastroenteritis\".upper()"
   ]
  },
  {
   "cell_type": "code",
   "execution_count": 70,
   "metadata": {
    "scrolled": true
   },
   "outputs": [
    {
     "data": {
      "text/html": [
       "<div>\n",
       "<style scoped>\n",
       "    .dataframe tbody tr th:only-of-type {\n",
       "        vertical-align: middle;\n",
       "    }\n",
       "\n",
       "    .dataframe tbody tr th {\n",
       "        vertical-align: top;\n",
       "    }\n",
       "\n",
       "    .dataframe thead th {\n",
       "        text-align: right;\n",
       "    }\n",
       "</style>\n",
       "<table border=\"1\" class=\"dataframe\">\n",
       "  <thead>\n",
       "    <tr style=\"text-align: right;\">\n",
       "      <th></th>\n",
       "      <th>filing_year</th>\n",
       "      <th>indication</th>\n",
       "      <th>publication_number</th>\n",
       "    </tr>\n",
       "  </thead>\n",
       "  <tbody>\n",
       "    <tr>\n",
       "      <th>1033</th>\n",
       "      <td>1997</td>\n",
       "      <td>GASTROENTERITIS</td>\n",
       "      <td>2</td>\n",
       "    </tr>\n",
       "    <tr>\n",
       "      <th>1400</th>\n",
       "      <td>1998</td>\n",
       "      <td>GASTROENTERITIS</td>\n",
       "      <td>1</td>\n",
       "    </tr>\n",
       "    <tr>\n",
       "      <th>5114</th>\n",
       "      <td>2007</td>\n",
       "      <td>GASTROENTERITIS</td>\n",
       "      <td>1</td>\n",
       "    </tr>\n",
       "    <tr>\n",
       "      <th>8584</th>\n",
       "      <td>2015</td>\n",
       "      <td>GASTROENTERITIS</td>\n",
       "      <td>1</td>\n",
       "    </tr>\n",
       "  </tbody>\n",
       "</table>\n",
       "</div>"
      ],
      "text/plain": [
       "      filing_year       indication  publication_number\n",
       "1033         1997  GASTROENTERITIS                   2\n",
       "1400         1998  GASTROENTERITIS                   1\n",
       "5114         2007  GASTROENTERITIS                   1\n",
       "8584         2015  GASTROENTERITIS                   1"
      ]
     },
     "execution_count": 70,
     "metadata": {},
     "output_type": "execute_result"
    }
   ],
   "source": [
    "by_disease_year.loc[by_disease_year.indication.str.contains(disease)]"
   ]
  },
  {
   "cell_type": "code",
   "execution_count": null,
   "metadata": {},
   "outputs": [],
   "source": []
  }
 ],
 "metadata": {
  "kernelspec": {
   "display_name": "Python 3",
   "language": "python",
   "name": "python3"
  },
  "language_info": {
   "codemirror_mode": {
    "name": "ipython",
    "version": 3
   },
   "file_extension": ".py",
   "mimetype": "text/x-python",
   "name": "python",
   "nbconvert_exporter": "python",
   "pygments_lexer": "ipython3",
   "version": "3.6.4"
  }
 },
 "nbformat": 4,
 "nbformat_minor": 2
}
