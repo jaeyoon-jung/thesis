{
 "cells": [
  {
   "cell_type": "code",
   "execution_count": 2,
   "metadata": {},
   "outputs": [],
   "source": [
    "from pandas.io import gbq\n",
    "import pandas as pd\n",
    "import matplotlib.pyplot as plt\n",
    "\n",
    "bq_project = \"thesis-jaeyoon\""
   ]
  },
  {
   "cell_type": "code",
   "execution_count": 26,
   "metadata": {},
   "outputs": [],
   "source": [
    "gp_query=\"\"\"\n",
    "\n",
    "select\n",
    "\tp.publication_number,\n",
    "\tp.application_number,\n",
    "\tp.country_code,\n",
    "  p.publication_date,\n",
    "  CAST(FLOOR(p.filing_date / 10000) AS INT64) AS filing_year,\n",
    "  CAST(FLOOR(p.priority_date / 10000) AS INT64) AS priority_year,\n",
    "  p.family_id,\n",
    "  p.entity_status,\n",
    "\tSTRING_AGG(DISTINCT ipcs.code) as ipc_codes,\n",
    "  STRING_AGG(DISTINCT uspcs.code) as uspc_codes,\n",
    "  STRING_AGG(DISTINCT pc.application_number) as priority_application_number,\n",
    "  STRING_AGG(DISTINCT cit.publication_number) as citations,\n",
    "  STRING_AGG(DISTINCT ah.name, \"||\") as assignees_harmonized,\n",
    "  STRING_AGG(DISTINCT title.text, \"||\") as title_text,\n",
    "  STRING_AGG(DISTINCT abstract.text, \"||\") as abstract_text\n",
    "FROM\n",
    "  `patents-public-data.patents.publications` AS p\n",
    "LEFT JOIN UNNEST(p.ipc) AS ipcs\n",
    "LEFT JOIN UNNESt(p.uspc) AS uspcs\n",
    "LEFT JOIN UNNEST(p.assignee) AS assignees\n",
    "LEFT JOIN UNNEST(p.title_localized) AS title\n",
    "LEFT JOIN UNNEST(p.abstract_localized) AS abstract\n",
    "LEFT JOIN UNNEST(p.priority_claim) AS pc \n",
    "LEFT JOIN UNNEST(p.citation) as cit\n",
    "LEFT JOIN UNNEST(p.assignee_harmonized) as ah\n",
    "LEFT JOIN UNNEST(p.description_localized) as description\n",
    "where \n",
    "  pc.application_number = p.application_number AND \n",
    "  (\n",
    "  ipcs.code LIKE '%A61J1/%' OR ipcs.code LIKE '%A61J3/%' OR\n",
    "  ipcs.code LIKE '%A61K9/%' OR ipcs.code LIKE '%A61K31/%' OR\n",
    "  ipcs.code LIKE '%A61K33/%' OR ipcs.code LIKE '%A61K35/%' OR\n",
    "  ipcs.code LIKE '%A61K36/%' OR ipcs.code LIKE '%A61K41/%' OR\n",
    "  ipcs.code LIKE '%A61K49/%' OR ipcs.code LIKE '%A61K51/%' OR\n",
    "  ipcs.code LIKE '%A61K39/%' OR ipcs.code LIKE '%A61K45/%' OR\n",
    "  ipcs.code LIKE '%A61K47/%' OR ipcs.code LIKE '%A61K48/%' OR\n",
    "  ipcs.code LIKE '%A61P/%' OR\n",
    "  uspcs.code LIKE '%424/%' OR uspcs.code LIKE '%514/%' \n",
    "  )\n",
    "GROUP BY \n",
    "  p.publication_number, p.application_number, p.country_code, p.publication_date, p.filing_date,\n",
    "\tp.priority_date, p.family_id, p.entity_status\n",
    "\"\"\""
   ]
  },
  {
   "cell_type": "code",
   "execution_count": 27,
   "metadata": {},
   "outputs": [
    {
     "name": "stderr",
     "output_type": "stream",
     "text": [
      "/Users/jaeyoonjung/anaconda3/lib/python3.6/site-packages/pandas/io/gbq.py:149: FutureWarning: verbose is deprecated and will be removed in a future version. Set logging level in order to vary verbosity\n",
      "  credentials=credentials, verbose=verbose, private_key=private_key)\n"
     ]
    }
   ],
   "source": [
    "gp_df = gbq.read_gbq(\n",
    "            query=gp_query,\n",
    "            project_id=bq_project,\n",
    "            verbose=True,\n",
    "            dialect='standard')"
   ]
  },
  {
   "cell_type": "code",
   "execution_count": 28,
   "metadata": {},
   "outputs": [],
   "source": [
    "gp_df.to_csv(\"data/priority_claims.csv\", sep=\"\\t\", index=False)"
   ]
  },
  {
   "cell_type": "code",
   "execution_count": 30,
   "metadata": {},
   "outputs": [],
   "source": [
    "ob_patent_dir = \"orangebook_chembl.csv\"\n",
    "ob_patent = pd.read_csv(ob_patent_dir, sep=\"\\t\")"
   ]
  },
  {
   "cell_type": "code",
   "execution_count": 31,
   "metadata": {},
   "outputs": [],
   "source": [
    "where_clause = \",\".join(\"'\" + ob_patent.publication_number.unique() + \"'\")"
   ]
  },
  {
   "cell_type": "code",
   "execution_count": 32,
   "metadata": {},
   "outputs": [],
   "source": [
    "ob_query = '''\n",
    "select\n",
    "\tp.publication_number,\n",
    "\tp.application_number,\n",
    "\tp.country_code,\n",
    "  p.publication_date,\n",
    "  CAST(FLOOR(p.filing_date / 10000) AS INT64) AS filing_year,\n",
    "  CAST(FLOOR(p.priority_date / 10000) AS INT64) AS priority_year,\n",
    "  p.family_id,\n",
    "  p.entity_status,\n",
    "\tSTRING_AGG(DISTINCT ipcs.code) as ipc_codes,\n",
    "  STRING_AGG(DISTINCT uspcs.code) as uspc_codes,\n",
    "  STRING_AGG(DISTINCT pc.application_number) as priority_application_number,\n",
    "  STRING_AGG(DISTINCT cit.publication_number) as citations,\n",
    "  STRING_AGG(DISTINCT ah.name, \"||\") as assignees_harmonized,\n",
    "  STRING_AGG(DISTINCT title.text, \"||\") as title_text,\n",
    "  STRING_AGG(DISTINCT abstract.text, \"||\") as abstract_text\n",
    "FROM\n",
    "  `patents-public-data.patents.publications` AS p\n",
    "LEFT JOIN UNNEST(p.ipc) AS ipcs\n",
    "LEFT JOIN UNNESt(p.uspc) AS uspcs\n",
    "LEFT JOIN UNNEST(p.assignee) AS assignees\n",
    "LEFT JOIN UNNEST(p.title_localized) AS title\n",
    "LEFT JOIN UNNEST(p.abstract_localized) AS abstract\n",
    "LEFT JOIN UNNEST(p.priority_claim) AS pc \n",
    "LEFT JOIN UNNEST(p.citation) as cit\n",
    "LEFT JOIN UNNEST(p.assignee_harmonized) as ah\n",
    "LEFT JOIN UNNEST(p.description_localized) as description\n",
    "WHERE\n",
    "    p.publication_number IN\n",
    "    (\n",
    "    {}\n",
    "    )\n",
    "GROUP BY \n",
    "p.publication_number, p.application_number, p.country_code, p.publication_date, p.filing_date,\n",
    "\tp.priority_date, p.family_id, p.entity_status\n",
    "'''.format(where_clause)"
   ]
  },
  {
   "cell_type": "code",
   "execution_count": 33,
   "metadata": {},
   "outputs": [
    {
     "name": "stderr",
     "output_type": "stream",
     "text": [
      "/Users/jaeyoonjung/anaconda3/lib/python3.6/site-packages/pandas/io/gbq.py:149: FutureWarning: verbose is deprecated and will be removed in a future version. Set logging level in order to vary verbosity\n",
      "  credentials=credentials, verbose=verbose, private_key=private_key)\n"
     ]
    }
   ],
   "source": [
    "ob_df = gbq.read_gbq(\n",
    "            query=ob_query,\n",
    "            project_id=bq_project,\n",
    "            verbose=True,\n",
    "            dialect='standard')"
   ]
  },
  {
   "cell_type": "code",
   "execution_count": 34,
   "metadata": {},
   "outputs": [],
   "source": [
    "ob_df = pd.merge(left = ob_df, right = ob_patent[[\"publication_number\", \"mesh_heading\"]], on =\"publication_number\")"
   ]
  },
  {
   "cell_type": "code",
   "execution_count": 35,
   "metadata": {},
   "outputs": [],
   "source": [
    "ob_df.to_csv(\"data/ob_patents.csv\", sep='\\t', index=False)"
   ]
  },
  {
   "cell_type": "code",
   "execution_count": null,
   "metadata": {},
   "outputs": [],
   "source": []
  }
 ],
 "metadata": {
  "kernelspec": {
   "display_name": "Python 3",
   "language": "python",
   "name": "python3"
  },
  "language_info": {
   "codemirror_mode": {
    "name": "ipython",
    "version": 3
   },
   "file_extension": ".py",
   "mimetype": "text/x-python",
   "name": "python",
   "nbconvert_exporter": "python",
   "pygments_lexer": "ipython3",
   "version": "3.6.4"
  }
 },
 "nbformat": 4,
 "nbformat_minor": 2
}
